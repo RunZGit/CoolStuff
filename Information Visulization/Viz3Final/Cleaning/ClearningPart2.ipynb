{
 "cells": [
  {
   "cell_type": "code",
   "execution_count": 1,
   "metadata": {},
   "outputs": [],
   "source": [
    "import pandas as pd"
   ]
  },
  {
   "cell_type": "code",
   "execution_count": 2,
   "metadata": {},
   "outputs": [],
   "source": [
    "df = pd.read_csv('./temp.tsv', delimiter=\"\\t\", index_col=\"ID\")"
   ]
  },
  {
   "cell_type": "code",
   "execution_count": 3,
   "metadata": {},
   "outputs": [
    {
     "data": {
      "text/html": [
       "<div>\n",
       "<style scoped>\n",
       "    .dataframe tbody tr th:only-of-type {\n",
       "        vertical-align: middle;\n",
       "    }\n",
       "\n",
       "    .dataframe tbody tr th {\n",
       "        vertical-align: top;\n",
       "    }\n",
       "\n",
       "    .dataframe thead th {\n",
       "        text-align: right;\n",
       "    }\n",
       "</style>\n",
       "<table border=\"1\" class=\"dataframe\">\n",
       "  <thead>\n",
       "    <tr style=\"text-align: right;\">\n",
       "      <th></th>\n",
       "      <th>old_name</th>\n",
       "      <th>x</th>\n",
       "      <th>y</th>\n",
       "      <th>name</th>\n",
       "      <th>city</th>\n",
       "      <th>state</th>\n",
       "      <th>country</th>\n",
       "      <th>lat</th>\n",
       "      <th>lon</th>\n",
       "    </tr>\n",
       "    <tr>\n",
       "      <th>ID</th>\n",
       "      <th></th>\n",
       "      <th></th>\n",
       "      <th></th>\n",
       "      <th></th>\n",
       "      <th></th>\n",
       "      <th></th>\n",
       "      <th></th>\n",
       "      <th></th>\n",
       "      <th></th>\n",
       "    </tr>\n",
       "  </thead>\n",
       "  <tbody>\n",
       "    <tr>\n",
       "      <th>1</th>\n",
       "      <td>Wiley Post-Will Rogers Mem</td>\n",
       "      <td>0.4407</td>\n",
       "      <td>0.0910</td>\n",
       "      <td>Wiley Post Will Rogers Memorial Airport</td>\n",
       "      <td>Barrow</td>\n",
       "      <td>Alaska</td>\n",
       "      <td>United States</td>\n",
       "      <td>71.2892</td>\n",
       "      <td>-156.772</td>\n",
       "    </tr>\n",
       "    <tr>\n",
       "      <th>2</th>\n",
       "      <td>Deadhorse</td>\n",
       "      <td>0.4830</td>\n",
       "      <td>0.1014</td>\n",
       "      <td>Deadhorse Airport</td>\n",
       "      <td>Prudhoe Bay</td>\n",
       "      <td>Alaska</td>\n",
       "      <td>United States</td>\n",
       "      <td>70.1975</td>\n",
       "      <td>-148.458</td>\n",
       "    </tr>\n",
       "    <tr>\n",
       "      <th>3</th>\n",
       "      <td>Ralph Wien Memorial</td>\n",
       "      <td>0.4110</td>\n",
       "      <td>0.1330</td>\n",
       "      <td>Ralph Wien Memorial Airport</td>\n",
       "      <td>Kotzebue</td>\n",
       "      <td>Alaska</td>\n",
       "      <td>United States</td>\n",
       "      <td>66.8893</td>\n",
       "      <td>-162.61</td>\n",
       "    </tr>\n",
       "    <tr>\n",
       "      <th>4</th>\n",
       "      <td>Fairbanks International</td>\n",
       "      <td>0.4861</td>\n",
       "      <td>0.1528</td>\n",
       "      <td>Fairbanks International Airport</td>\n",
       "      <td>Fairbanks</td>\n",
       "      <td>Alaska</td>\n",
       "      <td>United States</td>\n",
       "      <td>64.8183</td>\n",
       "      <td>-147.866</td>\n",
       "    </tr>\n",
       "    <tr>\n",
       "      <th>5</th>\n",
       "      <td>Nome</td>\n",
       "      <td>0.3965</td>\n",
       "      <td>0.1557</td>\n",
       "      <td>Nome Airport</td>\n",
       "      <td>Nome</td>\n",
       "      <td>Alaska</td>\n",
       "      <td>United States</td>\n",
       "      <td>64.5125</td>\n",
       "      <td>-165.445</td>\n",
       "    </tr>\n",
       "  </tbody>\n",
       "</table>\n",
       "</div>"
      ],
      "text/plain": [
       "                      old_name       x       y  \\\n",
       "ID                                               \n",
       "1   Wiley Post-Will Rogers Mem  0.4407  0.0910   \n",
       "2                    Deadhorse  0.4830  0.1014   \n",
       "3          Ralph Wien Memorial  0.4110  0.1330   \n",
       "4      Fairbanks International  0.4861  0.1528   \n",
       "5                         Nome  0.3965  0.1557   \n",
       "\n",
       "                                       name         city   state  \\\n",
       "ID                                                                 \n",
       "1   Wiley Post Will Rogers Memorial Airport       Barrow  Alaska   \n",
       "2                         Deadhorse Airport  Prudhoe Bay  Alaska   \n",
       "3               Ralph Wien Memorial Airport     Kotzebue  Alaska   \n",
       "4           Fairbanks International Airport    Fairbanks  Alaska   \n",
       "5                              Nome Airport         Nome  Alaska   \n",
       "\n",
       "          country      lat       lon  \n",
       "ID                                    \n",
       "1   United States  71.2892  -156.772  \n",
       "2   United States  70.1975  -148.458  \n",
       "3   United States  66.8893   -162.61  \n",
       "4   United States  64.8183  -147.866  \n",
       "5   United States  64.5125  -165.445  "
      ]
     },
     "execution_count": 3,
     "metadata": {},
     "output_type": "execute_result"
    }
   ],
   "source": [
    "df.head()"
   ]
  },
  {
   "cell_type": "code",
   "execution_count": 4,
   "metadata": {},
   "outputs": [],
   "source": [
    "with open(\"./USAir97.net.txt\") as f:\n",
    "    ## You want to replaced the \"\" from the airport names before spliting\n",
    "    content = f.read().replace('\"', \"\").split(\"\\n\")\n",
    "## Those are the airports\n",
    "# nodes = content[1:333]"
   ]
  },
  {
   "cell_type": "code",
   "execution_count": 5,
   "metadata": {},
   "outputs": [],
   "source": [
    "edges = content[335:-1]"
   ]
  },
  {
   "cell_type": "code",
   "execution_count": 41,
   "metadata": {},
   "outputs": [],
   "source": [
    "links = []\n",
    "for edge in edges:\n",
    "    s,d,w = edge.strip().split()\n",
    "    sourceLocation = [float(df.loc[int(s)]['lon']), float(df.loc[int(s)]['lat'])]\n",
    "    targetLocation = [float(df.loc[int(d)]['lon']), float(df.loc[int(d)]['lat'])]\n",
    "    links.append({'sourceLocation': sourceLocation, 'targetLocation':targetLocation, 'weight':float(w),\n",
    "                    'source' : df.loc[int(s)]['name'], 'target':df.loc[int(d)]['name']})"
   ]
  },
  {
   "cell_type": "code",
   "execution_count": 42,
   "metadata": {},
   "outputs": [],
   "source": [
    "import json\n",
    "with open('edges.json', 'w') as f:\n",
    "    json.dump(links, f)"
   ]
  },
  {
   "cell_type": "code",
   "execution_count": 23,
   "metadata": {},
   "outputs": [
    {
     "data": {
      "text/plain": [
       "1"
      ]
     },
     "execution_count": 23,
     "metadata": {},
     "output_type": "execute_result"
    }
   ],
   "source": [
    "df.index[0]"
   ]
  },
  {
   "cell_type": "code",
   "execution_count": 37,
   "metadata": {},
   "outputs": [],
   "source": [
    "important = {}\n",
    "count = {}\n",
    "for edge in edges:\n",
    "    s,d,w = edge.strip().split()\n",
    "    s = int(s)\n",
    "    d = int(d)\n",
    "    w = float(w)\n",
    "    if s not in important:\n",
    "        important[s] = 0.0\n",
    "        count[s] = 0\n",
    "    if d not in important:\n",
    "        important[d] = 0.0\n",
    "        count[d] = 0\n",
    "    important[s] += w\n",
    "    count[s] += 1\n",
    "    important[d] += w\n",
    "    count[d] += 1\n",
    "\n"
   ]
  },
  {
   "cell_type": "code",
   "execution_count": 38,
   "metadata": {},
   "outputs": [
    {
     "data": {
      "text/plain": [
       "332"
      ]
     },
     "execution_count": 38,
     "metadata": {},
     "output_type": "execute_result"
    }
   ],
   "source": [
    "len(important)"
   ]
  },
  {
   "cell_type": "code",
   "execution_count": 39,
   "metadata": {},
   "outputs": [],
   "source": [
    "nodes = []\n",
    "for idx in df.index:\n",
    "    cur = df.loc[idx].to_dict()\n",
    "    cur[\"lat\"] = float(cur[\"lat\"])\n",
    "    cur[\"lon\"] = float(cur[\"lon\"])\n",
    "    cur[\"id\"] = idx\n",
    "    cur[\"weight\"] = important[idx]\n",
    "    cur[\"count\"] = count[idx]\n",
    "    del cur[\"old_name\"]\n",
    "    del cur[\"x\"]\n",
    "    del cur[\"y\"]\n",
    "    nodes.append(cur)\n",
    "import json\n",
    "with open('nodes.json', 'w') as f:\n",
    "    json.dump(nodes, f)"
   ]
  },
  {
   "cell_type": "code",
   "execution_count": 6,
   "metadata": {},
   "outputs": [],
   "source": [
    "# output = []\n",
    "# for edge in edges:\n",
    "#     output.append(edge.strip().split())\n",
    "# df = pd.DataFrame(output, columns=[\"Source\", 'Destination', \"Weights\"])"
   ]
  },
  {
   "cell_type": "code",
   "execution_count": 7,
   "metadata": {},
   "outputs": [],
   "source": [
    "# df.Source = df.Source.astype('int')\n",
    "# df.Destination = df.Destination.astype('int')\n",
    "# df.Weights = df.Weights.astype('float')"
   ]
  },
  {
   "cell_type": "code",
   "execution_count": 8,
   "metadata": {},
   "outputs": [],
   "source": [
    "# df.to_csv(\"../Data/edges.csv\")"
   ]
  },
  {
   "cell_type": "code",
   "execution_count": 10,
   "metadata": {},
   "outputs": [],
   "source": [
    "nodes = []\n",
    "for idx in df.index:\n",
    "    cur = df.loc[idx].to_dict()\n",
    "    cur[\"lat\"] = float(cur[\"lat\"])\n",
    "    cur[\"lon\"] = float(cur[\"lon\"])\n",
    "    nodes.append(cur)\n",
    "\n",
    "links = []\n",
    "\n",
    "for edge in edges:\n",
    "    s,d,w = edge.strip().split()\n",
    "    links.append({'source': int(s), 'target':int(d), 'weight':float(w)})\n",
    "\n",
    "output = {'nodes': nodes, 'links':links}\n",
    "\n",
    "import json\n",
    "with open('UsAir97.json', 'w') as f:\n",
    "    json.dump(output, f)"
   ]
  },
  {
   "cell_type": "code",
   "execution_count": 9,
   "metadata": {},
   "outputs": [],
   "source": [
    "# \"\"\"\n",
    "#     \"1\" : {\n",
    "#         \"id\": \"1\" \n",
    "#         \"old name\": \"wiley ..\",\n",
    "#         \"name\" : \"...\",\n",
    "#         \"x\" : ,\n",
    "#         \"y\" : ,\n",
    "#         \"city\":,\n",
    "#         \"state\",\n",
    "#         \"conuntry\",\n",
    "#         \"lat\":,\n",
    "#         \"long\",\n",
    "#         \"edges\" : [3, 4, 5, 2]\n",
    "#         \"weights\": []\n",
    "#     },\n",
    "#     \"2\" :{...}\n",
    "# \"\"\"\n",
    "# output = {}\n",
    "\n",
    "# for edge in edges:\n",
    "#     s,d,w = edge.strip().split()\n",
    "#     if int(s) not in output:\n",
    "#         cur = df.loc[int(s)].to_dict()\n",
    "#         cur['id'] = int(s)\n",
    "#         cur['edges'] = [int(d)]\n",
    "#         cur['weights'] = [float(w)]\n",
    "#     else:\n",
    "#         cur = output[int(s)]\n",
    "#         cur['edges'].append(int(d))\n",
    "#         cur['weights'].append(float(w))\n",
    "#     output[int(s)] = cur\n",
    "\n",
    "# for i in df.index:\n",
    "#     if i not in output:\n",
    "#         cur = df.loc[i].to_dict()\n",
    "#         cur['id'] = i\n",
    "#         cur['edges'] = []\n",
    "#         cur['weights'] = []\n",
    "#         output[i] = cur\n",
    "\n",
    "# temp = []\n",
    "# for key in output:\n",
    "#     temp.append(output[key])\n",
    "\n",
    "# import json\n",
    "# with open('./final.json', 'w') as f:\n",
    "#     json.dump(temp, f)"
   ]
  },
  {
   "cell_type": "code",
   "execution_count": 18,
   "metadata": {},
   "outputs": [],
   "source": []
  },
  {
   "cell_type": "code",
   "execution_count": null,
   "metadata": {},
   "outputs": [],
   "source": []
  }
 ],
 "metadata": {
  "kernelspec": {
   "display_name": "Python 3",
   "language": "python",
   "name": "python3"
  },
  "language_info": {
   "codemirror_mode": {
    "name": "ipython",
    "version": 3
   },
   "file_extension": ".py",
   "mimetype": "text/x-python",
   "name": "python",
   "nbconvert_exporter": "python",
   "pygments_lexer": "ipython3",
   "version": "3.6.4"
  }
 },
 "nbformat": 4,
 "nbformat_minor": 2
}
