{
 "cells": [
  {
   "cell_type": "code",
   "execution_count": 1,
   "metadata": {},
   "outputs": [],
   "source": [
    "import pandas as pd"
   ]
  },
  {
   "cell_type": "code",
   "execution_count": 2,
   "metadata": {},
   "outputs": [],
   "source": [
    "df = pd.read_csv('./temp.tsv', delimiter=\"\\t\", index_col=\"ID\")"
   ]
  },
  {
   "cell_type": "code",
   "execution_count": 3,
   "metadata": {},
   "outputs": [
    {
     "data": {
      "text/html": [
       "<div>\n",
       "<style scoped>\n",
       "    .dataframe tbody tr th:only-of-type {\n",
       "        vertical-align: middle;\n",
       "    }\n",
       "\n",
       "    .dataframe tbody tr th {\n",
       "        vertical-align: top;\n",
       "    }\n",
       "\n",
       "    .dataframe thead th {\n",
       "        text-align: right;\n",
       "    }\n",
       "</style>\n",
       "<table border=\"1\" class=\"dataframe\">\n",
       "  <thead>\n",
       "    <tr style=\"text-align: right;\">\n",
       "      <th></th>\n",
       "      <th>old_name</th>\n",
       "      <th>x</th>\n",
       "      <th>y</th>\n",
       "      <th>name</th>\n",
       "      <th>city</th>\n",
       "      <th>state</th>\n",
       "      <th>country</th>\n",
       "      <th>lat</th>\n",
       "      <th>lon</th>\n",
       "    </tr>\n",
       "    <tr>\n",
       "      <th>ID</th>\n",
       "      <th></th>\n",
       "      <th></th>\n",
       "      <th></th>\n",
       "      <th></th>\n",
       "      <th></th>\n",
       "      <th></th>\n",
       "      <th></th>\n",
       "      <th></th>\n",
       "      <th></th>\n",
       "    </tr>\n",
       "  </thead>\n",
       "  <tbody>\n",
       "    <tr>\n",
       "      <th>1</th>\n",
       "      <td>Wiley Post-Will Rogers Mem</td>\n",
       "      <td>0.4407</td>\n",
       "      <td>0.0910</td>\n",
       "      <td>Wiley Post Will Rogers Memorial Airport</td>\n",
       "      <td>Barrow</td>\n",
       "      <td>Alaska</td>\n",
       "      <td>United States</td>\n",
       "      <td>71.2892</td>\n",
       "      <td>-156.772</td>\n",
       "    </tr>\n",
       "    <tr>\n",
       "      <th>2</th>\n",
       "      <td>Deadhorse</td>\n",
       "      <td>0.4830</td>\n",
       "      <td>0.1014</td>\n",
       "      <td>Deadhorse Airport</td>\n",
       "      <td>Prudhoe Bay</td>\n",
       "      <td>Alaska</td>\n",
       "      <td>United States</td>\n",
       "      <td>70.1975</td>\n",
       "      <td>-148.458</td>\n",
       "    </tr>\n",
       "    <tr>\n",
       "      <th>3</th>\n",
       "      <td>Ralph Wien Memorial</td>\n",
       "      <td>0.4110</td>\n",
       "      <td>0.1330</td>\n",
       "      <td>Ralph Wien Memorial Airport</td>\n",
       "      <td>Kotzebue</td>\n",
       "      <td>Alaska</td>\n",
       "      <td>United States</td>\n",
       "      <td>66.8893</td>\n",
       "      <td>-162.61</td>\n",
       "    </tr>\n",
       "    <tr>\n",
       "      <th>4</th>\n",
       "      <td>Fairbanks International</td>\n",
       "      <td>0.4861</td>\n",
       "      <td>0.1528</td>\n",
       "      <td>Fairbanks International Airport</td>\n",
       "      <td>Fairbanks</td>\n",
       "      <td>Alaska</td>\n",
       "      <td>United States</td>\n",
       "      <td>64.8183</td>\n",
       "      <td>-147.866</td>\n",
       "    </tr>\n",
       "    <tr>\n",
       "      <th>5</th>\n",
       "      <td>Nome</td>\n",
       "      <td>0.3965</td>\n",
       "      <td>0.1557</td>\n",
       "      <td>Nome Airport</td>\n",
       "      <td>Nome</td>\n",
       "      <td>Alaska</td>\n",
       "      <td>United States</td>\n",
       "      <td>64.5125</td>\n",
       "      <td>-165.445</td>\n",
       "    </tr>\n",
       "  </tbody>\n",
       "</table>\n",
       "</div>"
      ],
      "text/plain": [
       "                      old_name       x       y  \\\n",
       "ID                                               \n",
       "1   Wiley Post-Will Rogers Mem  0.4407  0.0910   \n",
       "2                    Deadhorse  0.4830  0.1014   \n",
       "3          Ralph Wien Memorial  0.4110  0.1330   \n",
       "4      Fairbanks International  0.4861  0.1528   \n",
       "5                         Nome  0.3965  0.1557   \n",
       "\n",
       "                                       name         city   state  \\\n",
       "ID                                                                 \n",
       "1   Wiley Post Will Rogers Memorial Airport       Barrow  Alaska   \n",
       "2                         Deadhorse Airport  Prudhoe Bay  Alaska   \n",
       "3               Ralph Wien Memorial Airport     Kotzebue  Alaska   \n",
       "4           Fairbanks International Airport    Fairbanks  Alaska   \n",
       "5                              Nome Airport         Nome  Alaska   \n",
       "\n",
       "          country      lat       lon  \n",
       "ID                                    \n",
       "1   United States  71.2892  -156.772  \n",
       "2   United States  70.1975  -148.458  \n",
       "3   United States  66.8893   -162.61  \n",
       "4   United States  64.8183  -147.866  \n",
       "5   United States  64.5125  -165.445  "
      ]
     },
     "execution_count": 3,
     "metadata": {},
     "output_type": "execute_result"
    }
   ],
   "source": [
    "df.head()"
   ]
  },
  {
   "cell_type": "code",
   "execution_count": 4,
   "metadata": {},
   "outputs": [],
   "source": [
    "with open(\"./USAir97.net.txt\") as f:\n",
    "    ## You want to replaced the \"\" from the airport names before spliting\n",
    "    content = f.read().replace('\"', \"\").split(\"\\n\")\n",
    "## Those are the airports\n",
    "# nodes = content[1:333]"
   ]
  },
  {
   "cell_type": "code",
   "execution_count": 5,
   "metadata": {},
   "outputs": [],
   "source": [
    "edges = content[335:-1]"
   ]
  },
  {
   "cell_type": "code",
   "execution_count": 40,
   "metadata": {},
   "outputs": [
    {
     "ename": "KeyError",
     "evalue": "'target'",
     "output_type": "error",
     "traceback": [
      "\u001b[0;31m---------------------------------------------------------------------------\u001b[0m",
      "\u001b[0;31mTypeError\u001b[0m                                 Traceback (most recent call last)",
      "\u001b[0;32m/anaconda/lib/python3.6/site-packages/pandas/core/indexes/base.py\u001b[0m in \u001b[0;36mget_value\u001b[0;34m(self, series, key)\u001b[0m\n\u001b[1;32m   2565\u001b[0m             \u001b[0;32mtry\u001b[0m\u001b[0;34m:\u001b[0m\u001b[0;34m\u001b[0m\u001b[0m\n\u001b[0;32m-> 2566\u001b[0;31m                 \u001b[0;32mreturn\u001b[0m \u001b[0mlibts\u001b[0m\u001b[0;34m.\u001b[0m\u001b[0mget_value_box\u001b[0m\u001b[0;34m(\u001b[0m\u001b[0ms\u001b[0m\u001b[0;34m,\u001b[0m \u001b[0mkey\u001b[0m\u001b[0;34m)\u001b[0m\u001b[0;34m\u001b[0m\u001b[0m\n\u001b[0m\u001b[1;32m   2567\u001b[0m             \u001b[0;32mexcept\u001b[0m \u001b[0mIndexError\u001b[0m\u001b[0;34m:\u001b[0m\u001b[0;34m\u001b[0m\u001b[0m\n",
      "\u001b[0;32mpandas/_libs/tslib.pyx\u001b[0m in \u001b[0;36mpandas._libs.tslib.get_value_box\u001b[0;34m()\u001b[0m\n",
      "\u001b[0;32mpandas/_libs/tslib.pyx\u001b[0m in \u001b[0;36mpandas._libs.tslib.get_value_box\u001b[0;34m()\u001b[0m\n",
      "\u001b[0;31mTypeError\u001b[0m: 'str' object cannot be interpreted as an integer",
      "\nDuring handling of the above exception, another exception occurred:\n",
      "\u001b[0;31mKeyError\u001b[0m                                  Traceback (most recent call last)",
      "\u001b[0;32m<ipython-input-40-ad3fe9b4f708>\u001b[0m in \u001b[0;36m<module>\u001b[0;34m()\u001b[0m\n\u001b[1;32m      5\u001b[0m     \u001b[0mtargetLocation\u001b[0m \u001b[0;34m=\u001b[0m \u001b[0;34m[\u001b[0m\u001b[0mfloat\u001b[0m\u001b[0;34m(\u001b[0m\u001b[0mdf\u001b[0m\u001b[0;34m.\u001b[0m\u001b[0mloc\u001b[0m\u001b[0;34m[\u001b[0m\u001b[0mint\u001b[0m\u001b[0;34m(\u001b[0m\u001b[0md\u001b[0m\u001b[0;34m)\u001b[0m\u001b[0;34m]\u001b[0m\u001b[0;34m[\u001b[0m\u001b[0;34m'lon'\u001b[0m\u001b[0;34m]\u001b[0m\u001b[0;34m)\u001b[0m\u001b[0;34m,\u001b[0m \u001b[0mfloat\u001b[0m\u001b[0;34m(\u001b[0m\u001b[0mdf\u001b[0m\u001b[0;34m.\u001b[0m\u001b[0mloc\u001b[0m\u001b[0;34m[\u001b[0m\u001b[0mint\u001b[0m\u001b[0;34m(\u001b[0m\u001b[0md\u001b[0m\u001b[0;34m)\u001b[0m\u001b[0;34m]\u001b[0m\u001b[0;34m[\u001b[0m\u001b[0;34m'lat'\u001b[0m\u001b[0;34m]\u001b[0m\u001b[0;34m)\u001b[0m\u001b[0;34m]\u001b[0m\u001b[0;34m\u001b[0m\u001b[0m\n\u001b[1;32m      6\u001b[0m     links.append({'sourceLocation': sourceLocation, 'targetLocation':targetLocation, 'weight':float(w),\n\u001b[0;32m----> 7\u001b[0;31m                     'source' : df.loc[int(s)]['name'], 'target':df.loc[int(d)]['target']})\n\u001b[0m",
      "\u001b[0;32m/anaconda/lib/python3.6/site-packages/pandas/core/series.py\u001b[0m in \u001b[0;36m__getitem__\u001b[0;34m(self, key)\u001b[0m\n\u001b[1;32m    621\u001b[0m         \u001b[0mkey\u001b[0m \u001b[0;34m=\u001b[0m \u001b[0mcom\u001b[0m\u001b[0;34m.\u001b[0m\u001b[0m_apply_if_callable\u001b[0m\u001b[0;34m(\u001b[0m\u001b[0mkey\u001b[0m\u001b[0;34m,\u001b[0m \u001b[0mself\u001b[0m\u001b[0;34m)\u001b[0m\u001b[0;34m\u001b[0m\u001b[0m\n\u001b[1;32m    622\u001b[0m         \u001b[0;32mtry\u001b[0m\u001b[0;34m:\u001b[0m\u001b[0;34m\u001b[0m\u001b[0m\n\u001b[0;32m--> 623\u001b[0;31m             \u001b[0mresult\u001b[0m \u001b[0;34m=\u001b[0m \u001b[0mself\u001b[0m\u001b[0;34m.\u001b[0m\u001b[0mindex\u001b[0m\u001b[0;34m.\u001b[0m\u001b[0mget_value\u001b[0m\u001b[0;34m(\u001b[0m\u001b[0mself\u001b[0m\u001b[0;34m,\u001b[0m \u001b[0mkey\u001b[0m\u001b[0;34m)\u001b[0m\u001b[0;34m\u001b[0m\u001b[0m\n\u001b[0m\u001b[1;32m    624\u001b[0m \u001b[0;34m\u001b[0m\u001b[0m\n\u001b[1;32m    625\u001b[0m             \u001b[0;32mif\u001b[0m \u001b[0;32mnot\u001b[0m \u001b[0mis_scalar\u001b[0m\u001b[0;34m(\u001b[0m\u001b[0mresult\u001b[0m\u001b[0;34m)\u001b[0m\u001b[0;34m:\u001b[0m\u001b[0;34m\u001b[0m\u001b[0m\n",
      "\u001b[0;32m/anaconda/lib/python3.6/site-packages/pandas/core/indexes/base.py\u001b[0m in \u001b[0;36mget_value\u001b[0;34m(self, series, key)\u001b[0m\n\u001b[1;32m   2572\u001b[0m                     \u001b[0;32mraise\u001b[0m \u001b[0mInvalidIndexError\u001b[0m\u001b[0;34m(\u001b[0m\u001b[0mkey\u001b[0m\u001b[0;34m)\u001b[0m\u001b[0;34m\u001b[0m\u001b[0m\n\u001b[1;32m   2573\u001b[0m                 \u001b[0;32melse\u001b[0m\u001b[0;34m:\u001b[0m\u001b[0;34m\u001b[0m\u001b[0m\n\u001b[0;32m-> 2574\u001b[0;31m                     \u001b[0;32mraise\u001b[0m \u001b[0me1\u001b[0m\u001b[0;34m\u001b[0m\u001b[0m\n\u001b[0m\u001b[1;32m   2575\u001b[0m             \u001b[0;32mexcept\u001b[0m \u001b[0mException\u001b[0m\u001b[0;34m:\u001b[0m  \u001b[0;31m# pragma: no cover\u001b[0m\u001b[0;34m\u001b[0m\u001b[0m\n\u001b[1;32m   2576\u001b[0m                 \u001b[0;32mraise\u001b[0m \u001b[0me1\u001b[0m\u001b[0;34m\u001b[0m\u001b[0m\n",
      "\u001b[0;32m/anaconda/lib/python3.6/site-packages/pandas/core/indexes/base.py\u001b[0m in \u001b[0;36mget_value\u001b[0;34m(self, series, key)\u001b[0m\n\u001b[1;32m   2558\u001b[0m         \u001b[0;32mtry\u001b[0m\u001b[0;34m:\u001b[0m\u001b[0;34m\u001b[0m\u001b[0m\n\u001b[1;32m   2559\u001b[0m             return self._engine.get_value(s, k,\n\u001b[0;32m-> 2560\u001b[0;31m                                           tz=getattr(series.dtype, 'tz', None))\n\u001b[0m\u001b[1;32m   2561\u001b[0m         \u001b[0;32mexcept\u001b[0m \u001b[0mKeyError\u001b[0m \u001b[0;32mas\u001b[0m \u001b[0me1\u001b[0m\u001b[0;34m:\u001b[0m\u001b[0;34m\u001b[0m\u001b[0m\n\u001b[1;32m   2562\u001b[0m             \u001b[0;32mif\u001b[0m \u001b[0mlen\u001b[0m\u001b[0;34m(\u001b[0m\u001b[0mself\u001b[0m\u001b[0;34m)\u001b[0m \u001b[0;34m>\u001b[0m \u001b[0;36m0\u001b[0m \u001b[0;32mand\u001b[0m \u001b[0mself\u001b[0m\u001b[0;34m.\u001b[0m\u001b[0minferred_type\u001b[0m \u001b[0;32min\u001b[0m \u001b[0;34m[\u001b[0m\u001b[0;34m'integer'\u001b[0m\u001b[0;34m,\u001b[0m \u001b[0;34m'boolean'\u001b[0m\u001b[0;34m]\u001b[0m\u001b[0;34m:\u001b[0m\u001b[0;34m\u001b[0m\u001b[0m\n",
      "\u001b[0;32mpandas/_libs/index.pyx\u001b[0m in \u001b[0;36mpandas._libs.index.IndexEngine.get_value\u001b[0;34m()\u001b[0m\n",
      "\u001b[0;32mpandas/_libs/index.pyx\u001b[0m in \u001b[0;36mpandas._libs.index.IndexEngine.get_value\u001b[0;34m()\u001b[0m\n",
      "\u001b[0;32mpandas/_libs/index.pyx\u001b[0m in \u001b[0;36mpandas._libs.index.IndexEngine.get_loc\u001b[0;34m()\u001b[0m\n",
      "\u001b[0;32mpandas/_libs/hashtable_class_helper.pxi\u001b[0m in \u001b[0;36mpandas._libs.hashtable.PyObjectHashTable.get_item\u001b[0;34m()\u001b[0m\n",
      "\u001b[0;32mpandas/_libs/hashtable_class_helper.pxi\u001b[0m in \u001b[0;36mpandas._libs.hashtable.PyObjectHashTable.get_item\u001b[0;34m()\u001b[0m\n",
      "\u001b[0;31mKeyError\u001b[0m: 'target'"
     ]
    }
   ],
   "source": [
    "links = []\n",
    "for edge in edges:\n",
    "    s,d,w = edge.strip().split()\n",
    "    sourceLocation = [float(df.loc[int(s)]['lon']), float(df.loc[int(s)]['lat'])]\n",
    "    targetLocation = [float(df.loc[int(d)]['lon']), float(df.loc[int(d)]['lat'])]\n",
    "    links.append({'sourceLocation': sourceLocation, 'targetLocation':targetLocation, 'weight':float(w),\n",
    "                    'source' : df.loc[int(s)]['name'], 'target':df.loc[int(d)]['name']})"
   ]
  },
  {
   "cell_type": "code",
   "execution_count": 17,
   "metadata": {},
   "outputs": [],
   "source": [
    "import json\n",
    "with open('edges.json', 'w') as f:\n",
    "    json.dump(links, f)"
   ]
  },
  {
   "cell_type": "code",
   "execution_count": 23,
   "metadata": {},
   "outputs": [
    {
     "data": {
      "text/plain": [
       "1"
      ]
     },
     "execution_count": 23,
     "metadata": {},
     "output_type": "execute_result"
    }
   ],
   "source": [
    "df.index[0]"
   ]
  },
  {
   "cell_type": "code",
   "execution_count": 37,
   "metadata": {},
   "outputs": [],
   "source": [
    "important = {}\n",
    "count = {}\n",
    "for edge in edges:\n",
    "    s,d,w = edge.strip().split()\n",
    "    s = int(s)\n",
    "    d = int(d)\n",
    "    w = float(w)\n",
    "    if s not in important:\n",
    "        important[s] = 0.0\n",
    "        count[s] = 0\n",
    "    if d not in important:\n",
    "        important[d] = 0.0\n",
    "        count[d] = 0\n",
    "    important[s] += w\n",
    "    count[s] += 1\n",
    "    important[d] += w\n",
    "    count[d] += 1\n",
    "\n"
   ]
  },
  {
   "cell_type": "code",
   "execution_count": 38,
   "metadata": {},
   "outputs": [
    {
     "data": {
      "text/plain": [
       "332"
      ]
     },
     "execution_count": 38,
     "metadata": {},
     "output_type": "execute_result"
    }
   ],
   "source": [
    "len(important)"
   ]
  },
  {
   "cell_type": "code",
   "execution_count": 39,
   "metadata": {},
   "outputs": [],
   "source": [
    "nodes = []\n",
    "for idx in df.index:\n",
    "    cur = df.loc[idx].to_dict()\n",
    "    cur[\"lat\"] = float(cur[\"lat\"])\n",
    "    cur[\"lon\"] = float(cur[\"lon\"])\n",
    "    cur[\"id\"] = idx\n",
    "    cur[\"weight\"] = important[idx]\n",
    "    cur[\"count\"] = count[idx]\n",
    "    del cur[\"old_name\"]\n",
    "    del cur[\"x\"]\n",
    "    del cur[\"y\"]\n",
    "    nodes.append(cur)\n",
    "import json\n",
    "with open('nodes.json', 'w') as f:\n",
    "    json.dump(nodes, f)"
   ]
  },
  {
   "cell_type": "code",
   "execution_count": 6,
   "metadata": {},
   "outputs": [],
   "source": [
    "# output = []\n",
    "# for edge in edges:\n",
    "#     output.append(edge.strip().split())\n",
    "# df = pd.DataFrame(output, columns=[\"Source\", 'Destination', \"Weights\"])"
   ]
  },
  {
   "cell_type": "code",
   "execution_count": 7,
   "metadata": {},
   "outputs": [],
   "source": [
    "# df.Source = df.Source.astype('int')\n",
    "# df.Destination = df.Destination.astype('int')\n",
    "# df.Weights = df.Weights.astype('float')"
   ]
  },
  {
   "cell_type": "code",
   "execution_count": 8,
   "metadata": {},
   "outputs": [],
   "source": [
    "# df.to_csv(\"../Data/edges.csv\")"
   ]
  },
  {
   "cell_type": "code",
   "execution_count": 10,
   "metadata": {},
   "outputs": [],
   "source": [
    "nodes = []\n",
    "for idx in df.index:\n",
    "    cur = df.loc[idx].to_dict()\n",
    "    cur[\"lat\"] = float(cur[\"lat\"])\n",
    "    cur[\"lon\"] = float(cur[\"lon\"])\n",
    "    nodes.append(cur)\n",
    "\n",
    "links = []\n",
    "\n",
    "for edge in edges:\n",
    "    s,d,w = edge.strip().split()\n",
    "    links.append({'source': int(s), 'target':int(d), 'weight':float(w)})\n",
    "\n",
    "output = {'nodes': nodes, 'links':links}\n",
    "\n",
    "import json\n",
    "with open('UsAir97.json', 'w') as f:\n",
    "    json.dump(output, f)"
   ]
  },
  {
   "cell_type": "code",
   "execution_count": 9,
   "metadata": {},
   "outputs": [],
   "source": [
    "# \"\"\"\n",
    "#     \"1\" : {\n",
    "#         \"id\": \"1\" \n",
    "#         \"old name\": \"wiley ..\",\n",
    "#         \"name\" : \"...\",\n",
    "#         \"x\" : ,\n",
    "#         \"y\" : ,\n",
    "#         \"city\":,\n",
    "#         \"state\",\n",
    "#         \"conuntry\",\n",
    "#         \"lat\":,\n",
    "#         \"long\",\n",
    "#         \"edges\" : [3, 4, 5, 2]\n",
    "#         \"weights\": []\n",
    "#     },\n",
    "#     \"2\" :{...}\n",
    "# \"\"\"\n",
    "# output = {}\n",
    "\n",
    "# for edge in edges:\n",
    "#     s,d,w = edge.strip().split()\n",
    "#     if int(s) not in output:\n",
    "#         cur = df.loc[int(s)].to_dict()\n",
    "#         cur['id'] = int(s)\n",
    "#         cur['edges'] = [int(d)]\n",
    "#         cur['weights'] = [float(w)]\n",
    "#     else:\n",
    "#         cur = output[int(s)]\n",
    "#         cur['edges'].append(int(d))\n",
    "#         cur['weights'].append(float(w))\n",
    "#     output[int(s)] = cur\n",
    "\n",
    "# for i in df.index:\n",
    "#     if i not in output:\n",
    "#         cur = df.loc[i].to_dict()\n",
    "#         cur['id'] = i\n",
    "#         cur['edges'] = []\n",
    "#         cur['weights'] = []\n",
    "#         output[i] = cur\n",
    "\n",
    "# temp = []\n",
    "# for key in output:\n",
    "#     temp.append(output[key])\n",
    "\n",
    "# import json\n",
    "# with open('./final.json', 'w') as f:\n",
    "#     json.dump(temp, f)"
   ]
  },
  {
   "cell_type": "code",
   "execution_count": 18,
   "metadata": {},
   "outputs": [],
   "source": []
  },
  {
   "cell_type": "code",
   "execution_count": null,
   "metadata": {},
   "outputs": [],
   "source": []
  }
 ],
 "metadata": {
  "kernelspec": {
   "display_name": "Python 3",
   "language": "python",
   "name": "python3"
  },
  "language_info": {
   "codemirror_mode": {
    "name": "ipython",
    "version": 3
   },
   "file_extension": ".py",
   "mimetype": "text/x-python",
   "name": "python",
   "nbconvert_exporter": "python",
   "pygments_lexer": "ipython3",
   "version": "3.6.4"
  }
 },
 "nbformat": 4,
 "nbformat_minor": 2
}
